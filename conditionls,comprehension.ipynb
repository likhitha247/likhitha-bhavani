{
  "nbformat": 4,
  "nbformat_minor": 0,
  "metadata": {
    "colab": {
      "provenance": []
    },
    "kernelspec": {
      "name": "python3",
      "display_name": "Python 3"
    },
    "language_info": {
      "name": "python"
    }
  },
  "cells": [
    {
      "cell_type": "code",
      "source": [
        "#conventional if else\n",
        "num = 6\n",
        "if num % 2 == 0:\n",
        "    print(\"even\")\n",
        "else:\n",
        "    print(\"odd\")"
      ],
      "metadata": {
        "colab": {
          "base_uri": "https://localhost:8080/"
        },
        "id": "bcoBf9y0UW5A",
        "outputId": "64023014-d6db-4625-8f29-b4d65cdd2455"
      },
      "execution_count": 3,
      "outputs": [
        {
          "output_type": "stream",
          "name": "stdout",
          "text": [
            "even\n"
          ]
        }
      ]
    },
    {
      "cell_type": "code",
      "source": [
        "num = 7\n",
        "print(\"even\") if num % 2 == 0 else print(\"odd\")"
      ],
      "metadata": {
        "colab": {
          "base_uri": "https://localhost:8080/"
        },
        "id": "qOHLQfiaVFhn",
        "outputId": "c8c7fe7a-26fb-42cf-e641-ba8199e9278d"
      },
      "execution_count": 6,
      "outputs": [
        {
          "output_type": "stream",
          "name": "stdout",
          "text": [
            "odd\n"
          ]
        }
      ]
    },
    {
      "cell_type": "code",
      "source": [
        "#nested if else\n",
        "num = 7\n",
        "result = \" Positive\" if num > 0 else (\"Negative\" if num < 0 else \"Zero\")\n",
        "print(result)"
      ],
      "metadata": {
        "colab": {
          "base_uri": "https://localhost:8080/"
        },
        "id": "ZJLbJ-zuWU8O",
        "outputId": "59aa980a-0f17-4d0f-d8ea-d2d947053220"
      },
      "execution_count": 9,
      "outputs": [
        {
          "output_type": "stream",
          "name": "stdout",
          "text": [
            " Positive\n"
          ]
        }
      ]
    },
    {
      "cell_type": "code",
      "source": [
        "#list comprehension\n",
        "L = [1,9,2,10,56,89]\n",
        "[2*x for x in L]"
      ],
      "metadata": {
        "colab": {
          "base_uri": "https://localhost:8080/"
        },
        "id": "5J4lQwD4YZN9",
        "outputId": "555dd6ad-cf65-4667-ce6c-a6ee471a8425"
      },
      "execution_count": 14,
      "outputs": [
        {
          "output_type": "execute_result",
          "data": {
            "text/plain": [
              "[2, 18, 4, 20, 112, 178]"
            ]
          },
          "metadata": {},
          "execution_count": 14
        }
      ]
    },
    {
      "cell_type": "code",
      "source": [
        "# list comprehension with a conditional print even numbers\n",
        "L = [1,9,2,10,56,89]\n",
        "[x for x in L if x%2 == 0]"
      ],
      "metadata": {
        "colab": {
          "base_uri": "https://localhost:8080/"
        },
        "id": "DRU8EdHpZYmZ",
        "outputId": "7c40b8f7-3b3f-40f4-c93c-67084c62c3e8"
      },
      "execution_count": 15,
      "outputs": [
        {
          "output_type": "execute_result",
          "data": {
            "text/plain": [
              "[2, 10, 56]"
            ]
          },
          "metadata": {},
          "execution_count": 15
        }
      ]
    },
    {
      "cell_type": "code",
      "source": [
        "# list comprehension with a conditional print odd numbers\n",
        "L = [1,9,2,10,56,89]\n",
        "[x for x in L if x%2 != 0]"
      ],
      "metadata": {
        "colab": {
          "base_uri": "https://localhost:8080/"
        },
        "id": "vNUtA9oqZ9H6",
        "outputId": "7a0b604a-7c94-44d1-dbb4-3ad2e6ef111b"
      },
      "execution_count": 17,
      "outputs": [
        {
          "output_type": "execute_result",
          "data": {
            "text/plain": [
              "[1, 9, 89]"
            ]
          },
          "metadata": {},
          "execution_count": 17
        }
      ]
    },
    {
      "cell_type": "code",
      "source": [
        "#print the average value of list of numbers using list comprehension\n",
        "L = [1,9,2,10,56,89]\n",
        "avg = sum(L)/len(L)\n",
        "avg"
      ],
      "metadata": {
        "colab": {
          "base_uri": "https://localhost:8080/"
        },
        "id": "6Jqj20GVaL-W",
        "outputId": "5ebddd65-f921-4eb2-c975-911cf645fe58"
      },
      "execution_count": 21,
      "outputs": [
        {
          "output_type": "execute_result",
          "data": {
            "text/plain": [
              "27.833333333333332"
            ]
          },
          "metadata": {},
          "execution_count": 21
        }
      ]
    },
    {
      "cell_type": "code",
      "source": [
        "#print the average value of list of numbers using list comprehension\n",
        "L = [1,9,2,10,56,89]\n",
        "sum([x for x in L])/len(L)"
      ],
      "metadata": {
        "colab": {
          "base_uri": "https://localhost:8080/"
        },
        "id": "D3mXCgfPbqx0",
        "outputId": "5ac380da-e027-4aed-988b-8bf8e424f983"
      },
      "execution_count": 25,
      "outputs": [
        {
          "output_type": "execute_result",
          "data": {
            "text/plain": [
              "27.833333333333332"
            ]
          },
          "metadata": {},
          "execution_count": 25
        }
      ]
    },
    {
      "cell_type": "code",
      "source": [
        "#Dictionary comprehension\n",
        "d1 = {'Ram':[70,71,98,100], 'John':[56,98,67,65]}\n",
        "d1"
      ],
      "metadata": {
        "colab": {
          "base_uri": "https://localhost:8080/"
        },
        "id": "CtAgmlBHcpx1",
        "outputId": "ca22aa43-c9cb-43e0-8fd5-bc2abe0c3927"
      },
      "execution_count": 26,
      "outputs": [
        {
          "output_type": "execute_result",
          "data": {
            "text/plain": [
              "{'Ram': [70, 71, 98, 100], 'John': [56, 98, 67, 65]}"
            ]
          },
          "metadata": {},
          "execution_count": 26
        }
      ]
    },
    {
      "cell_type": "code",
      "source": [
        "{k:sum(v)/len(v) for k,v in d1.items()}"
      ],
      "metadata": {
        "colab": {
          "base_uri": "https://localhost:8080/"
        },
        "id": "uy01p2bxdP-0",
        "outputId": "b4c4b898-7d27-4edd-9f74-ef64ea3a3f50"
      },
      "execution_count": 28,
      "outputs": [
        {
          "output_type": "execute_result",
          "data": {
            "text/plain": [
              "{'Ram': 84.75, 'John': 71.5}"
            ]
          },
          "metadata": {},
          "execution_count": 28
        }
      ]
    },
    {
      "cell_type": "code",
      "source": [],
      "metadata": {
        "id": "YwtYww8UdqH5"
      },
      "execution_count": null,
      "outputs": []
    }
  ]
}